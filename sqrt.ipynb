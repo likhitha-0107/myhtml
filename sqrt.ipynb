{
 "cells": [
  {
   "cell_type": "code",
   "execution_count": 1,
   "id": "9b7ed2ae-9c71-4ab3-9dc8-baa886ddf990",
   "metadata": {},
   "outputs": [
    {
     "name": "stdin",
     "output_type": "stream",
     "text": [
      "Enter a number:  1705\n"
     ]
    },
    {
     "name": "stdout",
     "output_type": "stream",
     "text": [
      "Approximate square root of 1705.0 is 41.29164564550015\n"
     ]
    }
   ],
   "source": [
    "def square_root(number, tolerance=0.000001):\n",
    "    if number < 0:\n",
    "        return \"Cannot compute square root of negative number\"\n",
    "\n",
    "    guess = number / 2.0 \n",
    "\n",
    "    while abs(guess * guess - number) > tolerance:\n",
    "        guess = (guess + number / guess) / 2.0\n",
    "    return guess\n",
    "num = float(input(\"Enter a number: \"))\n",
    "result = square_root(num)\n",
    "print(f\"Approximate square root of {num} is {result}\")"
   ]
  },
  {
   "cell_type": "code",
   "execution_count": null,
   "id": "5731573d-04b3-4902-8fc3-ac69a0f25d6b",
   "metadata": {},
   "outputs": [],
   "source": []
  }
 ],
 "metadata": {
  "kernelspec": {
   "display_name": "Python 3 (ipykernel)",
   "language": "python",
   "name": "python3"
  },
  "language_info": {
   "codemirror_mode": {
    "name": "ipython",
    "version": 3
   },
   "file_extension": ".py",
   "mimetype": "text/x-python",
   "name": "python",
   "nbconvert_exporter": "python",
   "pygments_lexer": "ipython3",
   "version": "3.12.4"
  }
 },
 "nbformat": 4,
 "nbformat_minor": 5
}
