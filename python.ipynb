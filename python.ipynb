{
 "cells": [
  {
   "cell_type": "code",
   "execution_count": 1,
   "id": "7f53bdff-5018-4b6a-a5f7-f904ec1da5f3",
   "metadata": {},
   "outputs": [
    {
     "name": "stdin",
     "output_type": "stream",
     "text": [
      "Enter how many numbers you want to sum:  4\n",
      "Enter number 1:  1705\n",
      "Enter number 2:  2005\n",
      "Enter number 3:  762020\n",
      "Enter number 4:  2000\n"
     ]
    },
    {
     "name": "stdout",
     "output_type": "stream",
     "text": [
      "The total sum is: 767730.0\n"
     ]
    }
   ],
   "source": [
    "n = int(input(\"Enter how many numbers you want to sum: \"))\n",
    "total = 0\n",
    "for i in range(n):\n",
    "    num = float(input(f\"Enter number {i + 1}: \"))\n",
    "    total += num\n",
    "print(\"The total sum is:\", total)"
   ]
  },
  {
   "cell_type": "code",
   "execution_count": null,
   "id": "6b45edbe-aace-4fec-8aec-b8d7dd4ff520",
   "metadata": {},
   "outputs": [],
   "source": []
  }
 ],
 "metadata": {
  "kernelspec": {
   "display_name": "Python 3 (ipykernel)",
   "language": "python",
   "name": "python3"
  },
  "language_info": {
   "codemirror_mode": {
    "name": "ipython",
    "version": 3
   },
   "file_extension": ".py",
   "mimetype": "text/x-python",
   "name": "python",
   "nbconvert_exporter": "python",
   "pygments_lexer": "ipython3",
   "version": "3.12.4"
  }
 },
 "nbformat": 4,
 "nbformat_minor": 5
}
