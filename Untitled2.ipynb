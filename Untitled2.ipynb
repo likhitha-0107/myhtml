{
 "cells": [
  {
   "cell_type": "code",
   "execution_count": 1,
   "id": "394c7a55-b655-478c-b7c0-ff5b50fab3ac",
   "metadata": {},
   "outputs": [
    {
     "name": "stdin",
     "output_type": "stream",
     "text": [
      "Enter how many numbers:  5\n",
      "Enter number 1:  154\n",
      "Enter number 2:  5461\n",
      "Enter number 3:  1452\n",
      "Enter number 4:  452\n",
      "Enter number 5:  47512\n"
     ]
    },
    {
     "name": "stdout",
     "output_type": "stream",
     "text": [
      "The largest number is: 47512.0\n"
     ]
    }
   ],
   "source": [
    "n = int(input(\"Enter how many numbers: \"))\n",
    "numbers = []\n",
    "for i in range(n):\n",
    "    num = float(input(f\"Enter number {i + 1}: \"))\n",
    "    numbers.append(num)\n",
    "largest = max(numbers)\n",
    "print(\"The largest number is:\", largest)"
   ]
  },
  {
   "cell_type": "code",
   "execution_count": null,
   "id": "c641a9e5-d770-4548-a385-db5337c740fd",
   "metadata": {},
   "outputs": [],
   "source": []
  }
 ],
 "metadata": {
  "kernelspec": {
   "display_name": "Python 3 (ipykernel)",
   "language": "python",
   "name": "python3"
  },
  "language_info": {
   "codemirror_mode": {
    "name": "ipython",
    "version": 3
   },
   "file_extension": ".py",
   "mimetype": "text/x-python",
   "name": "python",
   "nbconvert_exporter": "python",
   "pygments_lexer": "ipython3",
   "version": "3.12.4"
  }
 },
 "nbformat": 4,
 "nbformat_minor": 5
}
