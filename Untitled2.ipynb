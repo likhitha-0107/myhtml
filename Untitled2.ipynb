{
 "cells": [
  {
   "cell_type": "code",
   "execution_count": 1,
   "id": "7f5ebfd5-4880-4774-869c-649ed681c871",
   "metadata": {},
   "outputs": [
    {
     "name": "stdin",
     "output_type": "stream",
     "text": [
      "Enter the base of the triangle (in units):  12\n",
      "Enter the height of the triangle (in units):  15\n"
     ]
    },
    {
     "name": "stdout",
     "output_type": "stream",
     "text": [
      "\n",
      "The area of the triangle is 90.0 square units.\n"
     ]
    }
   ],
   "source": [
    "\n",
    "def triangle_area(base, height):\n",
    "    return 0.5 * base * height\n",
    "\n",
    "\n",
    "base = float(input(\"Enter the base of the triangle (in units): \"))\n",
    "height = float(input(\"Enter the height of the triangle (in units): \"))\n",
    "\n",
    "\n",
    "area = triangle_area(base, height)\n",
    "print(f\"\\nThe area of the triangle is {area} square units.\")"
   ]
  },
  {
   "cell_type": "code",
   "execution_count": null,
   "id": "7be6279d-a69c-4f2d-84b2-6266bdf8bd79",
   "metadata": {},
   "outputs": [],
   "source": []
  }
 ],
 "metadata": {
  "kernelspec": {
   "display_name": "Python 3 (ipykernel)",
   "language": "python",
   "name": "python3"
  },
  "language_info": {
   "codemirror_mode": {
    "name": "ipython",
    "version": 3
   },
   "file_extension": ".py",
   "mimetype": "text/x-python",
   "name": "python",
   "nbconvert_exporter": "python",
   "pygments_lexer": "ipython3",
   "version": "3.12.4"
  }
 },
 "nbformat": 4,
 "nbformat_minor": 5
}
