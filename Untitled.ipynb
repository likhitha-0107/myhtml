{
 "cells": [
  {
   "cell_type": "code",
   "execution_count": 8,
   "id": "c197ebd2-b500-40af-ae1a-885fa8cdf3bf",
   "metadata": {},
   "outputs": [
    {
     "name": "stdin",
     "output_type": "stream",
     "text": [
      "Enter coefficient a:  156\n",
      "Enter coefficient b:  152\n",
      "Enter coefficient c:  15623\n"
     ]
    },
    {
     "name": "stdout",
     "output_type": "stream",
     "text": [
      "Roots are imaginary (complex).\n",
      "Root 1 = (-0.48717948717948717+9.995503591350834j)\n",
      "Root 2 = (-0.48717948717948717-9.995503591350834j)\n"
     ]
    }
   ],
   "source": [
    "import cmath  \n",
    "\n",
    "def find_roots(a, b, c):\n",
    "    discriminant = b**2 - 4*a*c\n",
    "    \n",
    "    if discriminant > 0:\n",
    "        root1 = (-b + discriminant**0.5) / (2*a)\n",
    "        root2 = (-b - discriminant**0.5) / (2*a)\n",
    "        print(\"Roots are real and distinct.\")\n",
    "        print(f\"Root 1 = {root1}\")\n",
    "        print(f\"Root 2 = {root2}\")\n",
    "        \n",
    "    elif discriminant == 0:\n",
    "        root = -b / (2*a)\n",
    "        print(\"Roots are real and equal.\")\n",
    "        print(f\"Root = {root}\")\n",
    "        \n",
    "    else:\n",
    "       \n",
    "        root1 = (-b + cmath.sqrt(discriminant)) / (2*a)\n",
    "        root2 = (-b - cmath.sqrt(discriminant)) / (2*a)\n",
    "        print(\"Roots are imaginary (complex).\")\n",
    "        print(f\"Root 1 = {root1}\")\n",
    "        print(f\"Root 2 = {root2}\")\n",
    "\n",
    "a = float(input(\"Enter coefficient a: \"))\n",
    "b = float(input(\"Enter coefficient b: \"))\n",
    "c = float(input(\"Enter coefficient c: \"))\n",
    "\n",
    "find_roots(a, b, c)\n"
   ]
  },
  {
   "cell_type": "code",
   "execution_count": null,
   "id": "b0b4bd61-c92f-4705-b4f8-777e30da5ee8",
   "metadata": {},
   "outputs": [],
   "source": []
  }
 ],
 "metadata": {
  "kernelspec": {
   "display_name": "Python 3 (ipykernel)",
   "language": "python",
   "name": "python3"
  },
  "language_info": {
   "codemirror_mode": {
    "name": "ipython",
    "version": 3
   },
   "file_extension": ".py",
   "mimetype": "text/x-python",
   "name": "python",
   "nbconvert_exporter": "python",
   "pygments_lexer": "ipython3",
   "version": "3.12.4"
  }
 },
 "nbformat": 4,
 "nbformat_minor": 5
}
