{
 "cells": [
  {
   "cell_type": "code",
   "execution_count": 3,
   "id": "b5d79f9a-7c4c-48da-b562-56e3bbf12f53",
   "metadata": {},
   "outputs": [
    {
     "name": "stdin",
     "output_type": "stream",
     "text": [
      "Enter a string or an integer:  DFVGDD\n"
     ]
    },
    {
     "name": "stdout",
     "output_type": "stream",
     "text": [
      "Reversed: DDGVFD\n"
     ]
    }
   ],
   "source": [
    "def reverse_input(value):\n",
    "    value_str = str(value)\n",
    "    reversed_str = value_str[::-1]\n",
    "    return reversed_str\n",
    "\n",
    "user_input = input(\"Enter a string or an integer: \")\n",
    "if user_input.isdigit():\n",
    "    reversed_value = reverse_input(int(user_input))\n",
    "else:\n",
    "    reversed_value = reverse_input(user_input)\n",
    "\n",
    "print(\"Reversed:\", reversed_value)"
   ]
  },
  {
   "cell_type": "code",
   "execution_count": null,
   "id": "4fb4de41-49f5-4197-85a3-5ca2b490aa9f",
   "metadata": {},
   "outputs": [],
   "source": []
  }
 ],
 "metadata": {
  "kernelspec": {
   "display_name": "Python 3 (ipykernel)",
   "language": "python",
   "name": "python3"
  },
  "language_info": {
   "codemirror_mode": {
    "name": "ipython",
    "version": 3
   },
   "file_extension": ".py",
   "mimetype": "text/x-python",
   "name": "python",
   "nbconvert_exporter": "python",
   "pygments_lexer": "ipython3",
   "version": "3.12.4"
  }
 },
 "nbformat": 4,
 "nbformat_minor": 5
}
