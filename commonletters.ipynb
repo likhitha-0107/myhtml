{
 "cells": [
  {
   "cell_type": "code",
   "execution_count": 5,
   "id": "bc7d5958-8722-4649-857b-2e86ee3dd065",
   "metadata": {},
   "outputs": [
    {
     "name": "stdout",
     "output_type": "stream",
     "text": [
      "Common letters: ['a', 'h', 'i', 't']\n"
     ]
    }
   ],
   "source": [
    "\n",
    "def find_common_letters(s1, s2):\n",
    "    set1 = set(s1)\n",
    "    set2 = set(s2)\n",
    "    common = set1.intersection(set2)\n",
    "    return sorted(list(common))\n",
    "\n",
    "S1 = \"likitha\"\n",
    "S2 = \"harshitha\"\n",
    "\n",
    "common_letters = find_common_letters(S1, S2)\n",
    "print(\"Common letters:\", common_letters)"
   ]
  },
  {
   "cell_type": "code",
   "execution_count": null,
   "id": "c8180c4f-2cf3-493d-9f10-02704389faf5",
   "metadata": {},
   "outputs": [],
   "source": []
  }
 ],
 "metadata": {
  "kernelspec": {
   "display_name": "Python 3 (ipykernel)",
   "language": "python",
   "name": "python3"
  },
  "language_info": {
   "codemirror_mode": {
    "name": "ipython",
    "version": 3
   },
   "file_extension": ".py",
   "mimetype": "text/x-python",
   "name": "python",
   "nbconvert_exporter": "python",
   "pygments_lexer": "ipython3",
   "version": "3.12.4"
  }
 },
 "nbformat": 4,
 "nbformat_minor": 5
}
